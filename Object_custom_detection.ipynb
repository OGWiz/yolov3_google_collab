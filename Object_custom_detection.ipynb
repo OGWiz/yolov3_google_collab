{
 "cells": [
  {
   "cell_type": "code",
   "execution_count": 1,
   "id": "da23763d-6fcd-4d9b-85ad-493471211e73",
   "metadata": {},
   "outputs": [],
   "source": [
    "# You need to follow the youtube video steps, at the end, use this code instead.\n",
    "from google.colab import drive\n",
    "drive.mount('/content/drive')"
   ]
  },
  {
   "cell_type": "code",
   "execution_count": 2,
   "id": "fc4bb334-0377-4332-9a6a-dd8338fca893",
   "metadata": {},
   "outputs": [
    {
     "name": "stdout",
     "output_type": "stream",
     "text": [
      "C:\\Users\\Julio\\Capstone\\yolo_custom_model_Training\\darknet\n"
     ]
    }
   ],
   "source": [
    "!ls '/content/drive/My Drive/yolo_custom_model_Training'"
   ]
  },
  {
   "cell_type": "code",
   "execution_count": 3,
   "id": "384dafa4-abb7-4828-8ca1-6885957f8ea3",
   "metadata": {},
   "outputs": [
    {
     "name": "stdout",
     "output_type": "stream",
     "text": [
      "mkdir -p ./obj/\n"
     ]
    },
    {
     "name": "stderr",
     "output_type": "stream",
     "text": [
      "process_begin: CreateProcess(NULL, uname, ...) failed.\n",
      "Makefile:25: pipe: No error\n",
      "The syntax of the command is incorrect.\n",
      "make: *** [Makefile:188: obj/] Error 1\n"
     ]
    }
   ],
   "source": [
    "# !unzip '/content/drive/My Drive/yolo_custom_model_Training/custom_data.zip' -d '/content/drive/My Drive/yolo_custom_model_Training/custom_data'"
   ]
  },
  {
   "cell_type": "code",
   "execution_count": 4,
   "id": "ebcf6d1f-1a1a-4aa2-a646-4c2225ce1f2d",
   "metadata": {},
   "outputs": [
    {
     "name": "stdout",
     "output_type": "stream",
     "text": [
      "[WinError 3] The system cannot find the path specified: '/content/drive/My Drive/yolo_custom_model_Training'\n",
      "C:\\Users\\Julio\\Capstone\\yolo_custom_model_Training\\darknet\n"
     ]
    }
   ],
   "source": [
    "!git clone 'https://github.com/AlexeyAB/darknet.git' '/content/drive/My Drive/yolo_custom_model_Training/darknet'\n",
    "# wait at least 2 minutes after completion"
   ]
  },
  {
   "cell_type": "code",
   "execution_count": 5,
   "id": "f136587d-501f-4b7b-9a1c-4ed90629ce0c",
   "metadata": {},
   "outputs": [
    {
     "name": "stderr",
     "output_type": "stream",
     "text": [
      "'darknet' is not recognized as an internal or external command,\n",
      "operable program or batch file.\n"
     ]
    }
   ],
   "source": [
    "%cd /content/drive/My Drive/yolo_custom_model_Training/darknet"
   ]
  },
  {
   "cell_type": "code",
   "execution_count": null,
   "id": "5555f6a3-6833-4c1b-af19-82f3fccce4f2",
   "metadata": {},
   "outputs": [],
   "source": [
    "!sed -i 's/GPU=0/GPU=1/g' Makefile\n",
    "!sed -i 's/CUDNN=0/CUDNN=1/g' Makefile\n",
    "!sed -i 's/OPENCV=0/OPENCV=1/g' Makefile\n",
    "# wait at least 2 minutes after completion"
   ]
  },
  {
   "cell_type": "code",
   "execution_count": null,
   "id": "b22b86f6-6dca-4e46-a70b-a6cb6cb4c5b2",
   "metadata": {},
   "outputs": [],
   "source": [
    "!cat Makefile\n",
    "# wait at least 2 minutes after completion"
   ]
  },
  {
   "cell_type": "code",
   "execution_count": null,
   "id": "6dbd20f7-ab66-43e5-a0da-9450b32d9ad3",
   "metadata": {},
   "outputs": [],
   "source": [
    "!make\n",
    "# wait at least 2 minutes after completion"
   ]
  },
  {
   "cell_type": "code",
   "execution_count": null,
   "id": "64ce87c9-6d8c-43e9-9690-1d6439211087",
   "metadata": {},
   "outputs": [],
   "source": [
    "%cd /content/drive/My Drive/yolo_custom_model_Training"
   ]
  },
  {
   "cell_type": "code",
   "execution_count": null,
   "id": "07e89662-3634-4cda-8aca-ebd88cd8654f",
   "metadata": {},
   "outputs": [],
   "source": [
    "!darknet/darknet"
   ]
  },
  {
   "cell_type": "code",
   "execution_count": null,
   "id": "61a23d33-2afc-4cca-8a82-0a6d38279f80",
   "metadata": {},
   "outputs": [],
   "source": [
    "!darknet/darknet detector train custom_data/labelled_data.data darknet/cfg/yolov3_custom.cfg custom_weight/darknet53.conv.74 -dont_show"
   ]
  }
 ],
 "metadata": {
  "kernelspec": {
   "display_name": "Python 3 (ipykernel)",
   "language": "python",
   "name": "python3"
  },
  "language_info": {
   "codemirror_mode": {
    "name": "ipython",
    "version": 3
   },
   "file_extension": ".py",
   "mimetype": "text/x-python",
   "name": "python",
   "nbconvert_exporter": "python",
   "pygments_lexer": "ipython3",
   "version": "3.9.6"
  }
 },
 "nbformat": 4,
 "nbformat_minor": 5
}
